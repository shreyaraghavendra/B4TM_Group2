{
 "cells": [
  {
   "cell_type": "code",
   "execution_count": 1,
   "metadata": {},
   "outputs": [],
   "source": [
    "import sklearn\n",
    "import pandas as pd\n",
    "import numpy as np\n",
    "import matplotlib.pyplot as plt\n",
    "import scipy\n",
    "import seaborn as sns\n",
    "\n",
    "from sklearn.model_selection import train_test_split\n",
    "from sklearn.linear_model import LogisticRegression\n",
    "from sklearn.neighbors import KNeighborsClassifier\n",
    "from sklearn.metrics import accuracy_score, classification_report\n",
    "from sklearn.model_selection import GridSearchCV, KFold, cross_val_score\n"
   ]
  },
  {
   "cell_type": "code",
   "execution_count": 2,
   "metadata": {},
   "outputs": [],
   "source": [
    "# load data\n",
    "df_X = pd.read_csv('../data/X.csv', index_col=0)\n",
    "df_y = pd.read_csv('../data/y.csv', index_col=0)\n",
    "\n",
    "X = df_X.to_numpy()\n",
    "y = df_y.values.ravel()  # 0 is HER2+, 1 is HR+, 2 is Triple Negative"
   ]
  },
  {
   "cell_type": "code",
   "execution_count": 3,
   "metadata": {},
   "outputs": [],
   "source": [
    "# split data\n",
    "X_train, X_test, y_train, y_test = train_test_split(X, y, test_size=0.3, random_state=12345)"
   ]
  },
  {
   "cell_type": "markdown",
   "metadata": {},
   "source": [
    "# Logistic regression"
   ]
  },
  {
   "cell_type": "markdown",
   "metadata": {},
   "source": [
    "## logistic regression using multiclass ovr strategy"
   ]
  },
  {
   "cell_type": "code",
   "execution_count": 4,
   "metadata": {},
   "outputs": [
    {
     "name": "stdout",
     "output_type": "stream",
     "text": [
      "Best hyperparameters: {'C': 1, 'max_iter': 100, 'penalty': 'l1'}\n",
      "Accuracy:  0.8\n",
      "              precision    recall  f1-score   support\n",
      "\n",
      "           0       1.00      1.00      1.00        13\n",
      "           1       0.60      0.75      0.67         8\n",
      "           2       0.71      0.56      0.62         9\n",
      "\n",
      "    accuracy                           0.80        30\n",
      "   macro avg       0.77      0.77      0.76        30\n",
      "weighted avg       0.81      0.80      0.80        30\n",
      "\n"
     ]
    }
   ],
   "source": [
    "# define the model\n",
    "log_reg = LogisticRegression(solver='liblinear', multi_class='ovr')\n",
    "\n",
    "# define the grid of hyperparameters\n",
    "param_grid = {'C': [0.001, 0.01, 0.1, 1, 10, 100],\n",
    "              'penalty': ['l1', 'l2'],\n",
    "               'max_iter': [100, 200, 300, 400, 500]}\n",
    "\n",
    "# search\n",
    "grid_search = GridSearchCV(log_reg, param_grid, cv=5)\n",
    "grid_search.fit(X_train, y_train)\n",
    "print(\"Best hyperparameters:\", grid_search.best_params_)\n",
    "\n",
    "# evaluate the best model\n",
    "best_model = grid_search.best_estimator_\n",
    "y_pred = best_model.predict(X_test)\n",
    "accuracy = accuracy_score(y_test, y_pred)\n",
    "print(\"Accuracy: \", accuracy)\n",
    "\n",
    "# classification report\n",
    "print(classification_report(y_test, y_pred))"
   ]
  },
  {
   "cell_type": "markdown",
   "metadata": {},
   "source": [
    "## logistic regression (0 agaisnt 1 & 2)"
   ]
  },
  {
   "cell_type": "code",
   "execution_count": 5,
   "metadata": {},
   "outputs": [
    {
     "name": "stdout",
     "output_type": "stream",
     "text": [
      "Best hyperparameters: {'C': 1, 'max_iter': 100, 'penalty': 'l1'}\n",
      "Accuracy:  1.0\n",
      "              precision    recall  f1-score   support\n",
      "\n",
      "           0       1.00      1.00      1.00        13\n",
      "           1       1.00      1.00      1.00        17\n",
      "\n",
      "    accuracy                           1.00        30\n",
      "   macro avg       1.00      1.00      1.00        30\n",
      "weighted avg       1.00      1.00      1.00        30\n",
      "\n"
     ]
    }
   ],
   "source": [
    "# convert y_train and y_test to be binary\n",
    "y_train_1 = np.where(y_train == 2, 1, y_train)\n",
    "y_test_1 = np.where(y_test == 2, 1, y_test)\n",
    "\n",
    "# define the model\n",
    "log_reg = LogisticRegression(solver='liblinear')\n",
    "\n",
    "# define the grid of hyperparameters\n",
    "param_grid = {'C': [0.001, 0.01, 0.1, 1, 10, 100],\n",
    "              'penalty': ['l1', 'l2'],\n",
    "              'max_iter': [100, 200, 300, 400, 500]}\n",
    "\n",
    "# search\n",
    "grid_search = GridSearchCV(log_reg, param_grid, cv=5)\n",
    "grid_search.fit(X_train, y_train_1)\n",
    "print(\"Best hyperparameters:\", grid_search.best_params_)\n",
    "\n",
    "# evaluate the best model\n",
    "best_model = grid_search.best_estimator_\n",
    "y_pred = best_model.predict(X_test)\n",
    "accuracy = accuracy_score(y_test_1, y_pred)\n",
    "print(\"Accuracy: \", accuracy)\n",
    "\n",
    "# classification report\n",
    "print(classification_report(y_test_1, y_pred))"
   ]
  },
  {
   "cell_type": "markdown",
   "metadata": {},
   "source": [
    "## logistic regression (1 against 0 & 2)"
   ]
  },
  {
   "cell_type": "code",
   "execution_count": 6,
   "metadata": {},
   "outputs": [
    {
     "name": "stdout",
     "output_type": "stream",
     "text": [
      "Best hyperparameters: {'C': 0.01, 'max_iter': 100, 'penalty': 'l2'}\n",
      "Accuracy:  0.8333333333333334\n",
      "              precision    recall  f1-score   support\n",
      "\n",
      "           0       0.84      0.95      0.89        22\n",
      "           1       0.80      0.50      0.62         8\n",
      "\n",
      "    accuracy                           0.83        30\n",
      "   macro avg       0.82      0.73      0.75        30\n",
      "weighted avg       0.83      0.83      0.82        30\n",
      "\n"
     ]
    }
   ],
   "source": [
    "# convert y_train and y_test to binary\n",
    "y_train_2 = np.where(y_train == 2, 0, y_train)\n",
    "y_test_2 = np.where(y_test == 2, 0, y_test)\n",
    "\n",
    "# define the model\n",
    "log_reg = LogisticRegression(solver='liblinear')\n",
    "\n",
    "# define the grid of hyperparameters\n",
    "param_grid = {'C': [0.001, 0.01, 0.1, 1, 10, 100],\n",
    "              'penalty': ['l1', 'l2'],\n",
    "              'max_iter': [100, 200, 300, 400, 500]}\n",
    "\n",
    "# search\n",
    "grid_search = GridSearchCV(log_reg, param_grid, cv=5)\n",
    "grid_search.fit(X_train, y_train_2)\n",
    "print(\"Best hyperparameters:\", grid_search.best_params_)\n",
    "\n",
    "# evaluate the best model\n",
    "best_model = grid_search.best_estimator_\n",
    "y_pred = best_model.predict(X_test)\n",
    "accuracy = accuracy_score(y_test_2, y_pred)\n",
    "print(\"Accuracy: \", accuracy)\n",
    "\n",
    "# classification report\n",
    "print(classification_report(y_test_2, y_pred))"
   ]
  },
  {
   "cell_type": "markdown",
   "metadata": {},
   "source": [
    "## logistic regression (2 against 0 & 1)"
   ]
  },
  {
   "cell_type": "code",
   "execution_count": 7,
   "metadata": {},
   "outputs": [
    {
     "name": "stdout",
     "output_type": "stream",
     "text": [
      "Best hyperparameters: {'C': 1, 'max_iter': 100, 'penalty': 'l1'}\n",
      "Accuracy:  0.7333333333333333\n",
      "              precision    recall  f1-score   support\n",
      "\n",
      "           0       0.78      0.86      0.82        21\n",
      "           2       0.57      0.44      0.50         9\n",
      "\n",
      "    accuracy                           0.73        30\n",
      "   macro avg       0.68      0.65      0.66        30\n",
      "weighted avg       0.72      0.73      0.72        30\n",
      "\n"
     ]
    }
   ],
   "source": [
    "# convert y_train and y_test to binary\n",
    "y_train_3 = np.where(y_train == 1, 0, y_train)\n",
    "y_test_3 = np.where(y_test == 1, 0, y_test)\n",
    "\n",
    "# define the model\n",
    "log_reg = LogisticRegression(solver='liblinear')\n",
    "\n",
    "# define the grid of hyperparameters\n",
    "param_grid = {'C': [0.001, 0.01, 0.1, 1, 10, 100],\n",
    "              'penalty': ['l1', 'l2'],\n",
    "              'max_iter': [100, 200, 300, 400, 500]}\n",
    "\n",
    "# search\n",
    "grid_search = GridSearchCV(log_reg, param_grid, cv=5)\n",
    "grid_search.fit(X_train, y_train_3)\n",
    "print(\"Best hyperparameters:\", grid_search.best_params_)\n",
    "\n",
    "# model evaluation\n",
    "best_model = grid_search.best_estimator_\n",
    "y_pred = best_model.predict(X_test)\n",
    "accuracy = accuracy_score(y_test_3, y_pred)\n",
    "print(\"Accuracy: \", accuracy)\n",
    "\n",
    "# classification report\n",
    "print(classification_report(y_test_3, y_pred))"
   ]
  },
  {
   "cell_type": "markdown",
   "metadata": {},
   "source": [
    "# k-nearest neighbors"
   ]
  },
  {
   "cell_type": "code",
   "execution_count": 9,
   "metadata": {},
   "outputs": [
    {
     "name": "stdout",
     "output_type": "stream",
     "text": [
      "Best hyperparameters: {'n_neighbors': 5, 'p': 1, 'weights': 'uniform'}\n",
      "Accuracy:  0.3333333333333333\n",
      "              precision    recall  f1-score   support\n",
      "\n",
      "           0       0.80      0.31      0.44        13\n",
      "           1       0.26      0.75      0.39         8\n",
      "           2       0.00      0.00      0.00         9\n",
      "\n",
      "    accuracy                           0.33        30\n",
      "   macro avg       0.35      0.35      0.28        30\n",
      "weighted avg       0.42      0.33      0.30        30\n",
      "\n"
     ]
    }
   ],
   "source": [
    "# define the model\n",
    "knn = KNeighborsClassifier()\n",
    "\n",
    "# define the grid of hyperparameters\n",
    "param_grid = {'n_neighbors': [1, 3, 5, 7, 9, 11],\n",
    "              'weights': ['uniform', 'distance'],\n",
    "              'p': [1, 2]}\n",
    "\n",
    "# search\n",
    "grid_search = GridSearchCV(knn, param_grid, cv=5)\n",
    "grid_search.fit(X_train, y_train)\n",
    "print(\"Best hyperparameters:\", grid_search.best_params_)\n",
    "\n",
    "# evaluate the best model\n",
    "best_model = grid_search.best_estimator_\n",
    "y_pred = best_model.predict(X_test)\n",
    "accuracy = accuracy_score(y_test, y_pred)\n",
    "print(\"Accuracy: \", accuracy)\n",
    "\n",
    "# classification report\n",
    "print(classification_report(y_test, y_pred))"
   ]
  }
 ],
 "metadata": {
  "kernelspec": {
   "display_name": "Python 3",
   "language": "python",
   "name": "python3"
  },
  "language_info": {
   "codemirror_mode": {
    "name": "ipython",
    "version": 3
   },
   "file_extension": ".py",
   "mimetype": "text/x-python",
   "name": "python",
   "nbconvert_exporter": "python",
   "pygments_lexer": "ipython3",
   "version": "3.11.5"
  }
 },
 "nbformat": 4,
 "nbformat_minor": 2
}
