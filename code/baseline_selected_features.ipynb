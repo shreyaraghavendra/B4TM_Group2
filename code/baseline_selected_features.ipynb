{
 "cells": [
  {
   "cell_type": "code",
   "execution_count": 31,
   "metadata": {},
   "outputs": [],
   "source": [
    "import sklearn\n",
    "import pandas as pd\n",
    "import numpy as np\n",
    "import matplotlib.pyplot as plt\n",
    "import scipy\n",
    "import seaborn as sns\n",
    "\n",
    "from sklearn.model_selection import train_test_split\n",
    "from sklearn.linear_model import LogisticRegression\n",
    "from sklearn.neighbors import KNeighborsClassifier\n",
    "from sklearn.metrics import accuracy_score, classification_report\n",
    "from sklearn.model_selection import GridSearchCV, KFold, cross_val_score"
   ]
  },
  {
   "cell_type": "code",
   "execution_count": 32,
   "metadata": {},
   "outputs": [],
   "source": [
    "# load data\n",
    "df_X = pd.read_csv('../data/X.csv', index_col=0)\n",
    "df_y = pd.read_csv('../data/y.csv', index_col=0)\n",
    "\n",
    "# keep selected columns\n",
    "selected_features = [30, 31, 175, 177, 192, 194, 223, 230, 316, 317, 342, 354, 396, 472, 485, 487, 509, 511, 623, 672, 679, 758, 764, 766, 791, 814, 815, 842, 998, 1035, 1055, 1059, 1170, 1243, 1310, 1481, 1642, 1655, 1659, 1663, 1678, 1679, 1683, 1788, 1897, 1899, 1902, 1906, 1907, 1962, 2017, 2023, 2024, 2026, 2184, 2188, 2206, 2207, 2210, 2211, 2213, 2382, 2427, 2457, 2501, 2655, 2656, 2742, 2747, 2750, 2752] \n",
    "new_df_X = df_X.iloc[:, selected_features]\n",
    "\n",
    "X = new_df_X.to_numpy()\n",
    "y = df_y.values.ravel()  # 0 is HER2+, 1 is HR+, 2 is Triple Negative"
   ]
  },
  {
   "cell_type": "code",
   "execution_count": 33,
   "metadata": {},
   "outputs": [],
   "source": [
    "# split data\n",
    "X_train, X_test, y_train, y_test = train_test_split(X, y, test_size=0.3, random_state=12345)"
   ]
  },
  {
   "cell_type": "markdown",
   "metadata": {},
   "source": [
    "# Logistic regression"
   ]
  },
  {
   "cell_type": "code",
   "execution_count": 34,
   "metadata": {},
   "outputs": [
    {
     "name": "stdout",
     "output_type": "stream",
     "text": [
      "Mean cross-validation score: 0.8857142857142858\n",
      "Best hyperparameters: {'C': 10, 'max_iter': 100, 'penalty': 'l1'}\n",
      "              precision    recall  f1-score   support\n",
      "\n",
      "           0       1.00      1.00      1.00        13\n",
      "           1       0.70      0.88      0.78         8\n",
      "           2       0.86      0.67      0.75         9\n",
      "\n",
      "    accuracy                           0.87        30\n",
      "   macro avg       0.85      0.85      0.84        30\n",
      "weighted avg       0.88      0.87      0.87        30\n",
      "\n"
     ]
    }
   ],
   "source": [
    "# define the model\n",
    "log_reg = LogisticRegression(solver='liblinear', multi_class='ovr')\n",
    "\n",
    "# define the grid of hyperparameters\n",
    "param_grid = {'C': [0.001, 0.01, 0.1, 1, 10, 100],\n",
    "              'penalty': ['l1', 'l2'],\n",
    "               'max_iter': [100, 200, 300, 400, 500]}\n",
    "\n",
    "# configure the nested cross-validation procedure\n",
    "inner_cv = KFold(n_splits=5, shuffle=True, random_state=12345)\n",
    "outer_cv = KFold(n_splits=5, shuffle=True, random_state=12345)\n",
    "\n",
    "# search\n",
    "grid_search = GridSearchCV(log_reg, param_grid, cv=inner_cv)\n",
    "cross_val_scores = cross_val_score(grid_search, X_train, y_train, cv=outer_cv)\n",
    "\n",
    "grid_search.fit(X_train, y_train)\n",
    "\n",
    "print(\"Mean cross-validation score:\", np.mean(cross_val_scores))\n",
    "print(\"Best hyperparameters:\", grid_search.best_params_)\n",
    "\n",
    "# evaluate the best model\n",
    "best_model = grid_search.best_estimator_\n",
    "y_pred = best_model.predict(X_test)\n",
    "\n",
    "# classification report\n",
    "print(classification_report(y_test, y_pred))\n"
   ]
  },
  {
   "cell_type": "markdown",
   "metadata": {},
   "source": [
    "# kNN"
   ]
  },
  {
   "cell_type": "code",
   "execution_count": 36,
   "metadata": {},
   "outputs": [
    {
     "name": "stdout",
     "output_type": "stream",
     "text": [
      "Mean cross-validation score: 0.8428571428571429\n",
      "Best hyperparameters: {'n_neighbors': 1, 'p': 2, 'weights': 'uniform'}\n",
      "              precision    recall  f1-score   support\n",
      "\n",
      "           0       0.92      0.92      0.92        13\n",
      "           1       0.73      1.00      0.84         8\n",
      "           2       0.83      0.56      0.67         9\n",
      "\n",
      "    accuracy                           0.83        30\n",
      "   macro avg       0.83      0.83      0.81        30\n",
      "weighted avg       0.84      0.83      0.82        30\n",
      "\n"
     ]
    }
   ],
   "source": [
    "# define the model\n",
    "knn = KNeighborsClassifier()\n",
    "\n",
    "# define the grid of hyperparameters\n",
    "param_grid = {'n_neighbors': [1, 3, 5, 7, 9, 11],\n",
    "              'weights': ['uniform', 'distance'],\n",
    "              'p': [1, 2]}\n",
    "\n",
    "# configure the nested cross-validation procedure\n",
    "inner_cv = KFold(n_splits=5, shuffle=True, random_state=12345)\n",
    "outer_cv = KFold(n_splits=5, shuffle=True, random_state=12345)\n",
    "\n",
    "# search\n",
    "grid_search = GridSearchCV(knn, param_grid, cv=inner_cv)\n",
    "cross_val_scores = cross_val_score(grid_search, X_train, y_train, cv=outer_cv)\n",
    "\n",
    "grid_search.fit(X_train, y_train)\n",
    "\n",
    "print(\"Mean cross-validation score:\", np.mean(cross_val_scores))\n",
    "print(\"Best hyperparameters:\", grid_search.best_params_)\n",
    "\n",
    "# evaluate the best model\n",
    "best_model = grid_search.best_estimator_\n",
    "y_pred = best_model.predict(X_test)\n",
    "\n",
    "# classification report\n",
    "print(classification_report(y_test, y_pred))"
   ]
  }
 ],
 "metadata": {
  "kernelspec": {
   "display_name": "Python 3",
   "language": "python",
   "name": "python3"
  },
  "language_info": {
   "codemirror_mode": {
    "name": "ipython",
    "version": 3
   },
   "file_extension": ".py",
   "mimetype": "text/x-python",
   "name": "python",
   "nbconvert_exporter": "python",
   "pygments_lexer": "ipython3",
   "version": "3.11.5"
  }
 },
 "nbformat": 4,
 "nbformat_minor": 2
}
