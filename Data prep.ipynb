{
 "cells": [
  {
   "cell_type": "code",
   "execution_count": 2,
   "metadata": {},
   "outputs": [
    {
     "name": "stdout",
     "output_type": "stream",
     "text": [
      "           0     1     2     3     4     5     6     7     8     9     ...  \\\n",
      "Array.129     0     0     0     0     0     0     0     0     0     0  ...   \n",
      "Array.34      0     0     0     0     0     0     0     0     0     0  ...   \n",
      "Array.67      0     0     0     0     0     0     0     0     0     0  ...   \n",
      "Array.24      0     0     0     0     0     0     0    -1     0     0  ...   \n",
      "Array.22      0     0     0     0     0     0     0     0     0     0  ...   \n",
      "...         ...   ...   ...   ...   ...   ...   ...   ...   ...   ...  ...   \n",
      "Array.10      0     0     0     0     0     0     0     0     0     0  ...   \n",
      "Array.123     0     0     0     0     0     0     0     0     0     0  ...   \n",
      "Array.100     0     0     0     0     0     0     0     0     0     0  ...   \n",
      "Array.134    -1    -1    -1    -1    -1    -1    -1    -1    -1    -1  ...   \n",
      "Array.130     0     0     0     0     0     0     0     0     0     0  ...   \n",
      "\n",
      "           2824  2825  2826  2827  2828  2829  2830  2831  2832  2833  \n",
      "Array.129     2     2     2     2     0     1     1     1     1     1  \n",
      "Array.34      1     1     1     1     1     1     1     1     1     1  \n",
      "Array.67      1     1     1     1     1     1     1     1     1     1  \n",
      "Array.24      0     0     0     0     0     0     0     0     0     0  \n",
      "Array.22      1     1     1     1     1     1     1     1     1     1  \n",
      "...         ...   ...   ...   ...   ...   ...   ...   ...   ...   ...  \n",
      "Array.10      1     1     0     1     1     1     1     1     1     1  \n",
      "Array.123     1     1     1     1     1     1     1     1     1     1  \n",
      "Array.100     1     1     1     1     1     1     1     1     1     1  \n",
      "Array.134     1     1     1     1     1     1     1     1     1     1  \n",
      "Array.130     1     1     1     1     1     1     1     1     1     1  \n",
      "\n",
      "[100 rows x 2834 columns]\n"
     ]
    },
    {
     "name": "stderr",
     "output_type": "stream",
     "text": [
      "/var/folders/08/cc0tz1fj6xbbvzpd8d50y5680000gn/T/ipykernel_6511/4159350401.py:2: DeprecationWarning: \n",
      "Pyarrow will become a required dependency of pandas in the next major release of pandas (pandas 3.0),\n",
      "(to allow more performant data types, such as the Arrow string type, and better interoperability with other libraries)\n",
      "but was not found to be installed on your system.\n",
      "If this would cause problems for you,\n",
      "please provide us feedback at https://github.com/pandas-dev/pandas/issues/54466\n",
      "        \n",
      "  import pandas as pd\n"
     ]
    }
   ],
   "source": [
    "import sklearn\n",
    "import pandas as pd\n",
    "import numpy as np\n",
    "import matplotlib as plt\n",
    "import scipy\n",
    "\n",
    "# importing the dataset\n",
    "data = pd.read_csv('Train_call.txt', sep='\\t')\n",
    "data = np.transpose(data)\n",
    "data = data.iloc[4:]\n",
    "label = pd.read_csv('Train_clinical.txt', sep='\\t')\n",
    "\n",
    "print(data)\n"
   ]
  }
 ],
 "metadata": {
  "kernelspec": {
   "display_name": "Python 3",
   "language": "python",
   "name": "python3"
  },
  "language_info": {
   "codemirror_mode": {
    "name": "ipython",
    "version": 3
   },
   "file_extension": ".py",
   "mimetype": "text/x-python",
   "name": "python",
   "nbconvert_exporter": "python",
   "pygments_lexer": "ipython3",
   "version": "3.11.5"
  }
 },
 "nbformat": 4,
 "nbformat_minor": 2
}
