{
 "cells": [
  {
   "cell_type": "code",
   "execution_count": 1,
   "metadata": {},
   "outputs": [],
   "source": [
    "import sklearn\n",
    "import pandas as pd\n",
    "import numpy as np\n",
    "import matplotlib.pyplot as plt\n",
    "import scipy\n",
    "import seaborn as sns\n",
    "\n",
    "from sklearn.model_selection import train_test_split\n",
    "from sklearn.linear_model import LogisticRegression\n",
    "from sklearn.neighbors import KNeighborsClassifier\n",
    "from sklearn.metrics import accuracy_score, classification_report\n",
    "from sklearn.model_selection import GridSearchCV, KFold, cross_val_score"
   ]
  },
  {
   "cell_type": "code",
   "execution_count": 2,
   "metadata": {},
   "outputs": [],
   "source": [
    "# load data\n",
    "df_X = pd.read_csv('../data/X.csv', index_col=0)\n",
    "df_y = pd.read_csv('../data/y.csv', index_col=0)\n",
    "\n",
    "# keep selected columns\n",
    "selected_features = [2056, 2058, 1559, 2083, 1065, 1581, 1583, 1087, 67, 74, 2130, 2662, 2154, 623, 1654, 1656, 1657, 1663, 2182, 2183, 1160, 2184, 2185, 1677, 1678, 1679, 2196, 2717, 2206, 671, 2207, 2208, 2209, 2723, 2212, 2213, 2211, 2725, 2214, 2724, 2218, 2210, 2732, 2221, 174, 2730, 2219, 2220, 2733, 2223, 2224, 2225, 2742, 2736, 2740, 189, 192, 2776, 1243, 734, 2275, 229, 230, 2789, 744, 2791, 742, 743, 745, 761, 1788, 765, 1789, 2817, 2818, 771, 261, 1289, 2828, 1293, 1302, 791, 1303, 1306, 800, 801, 803, 805, 669, 808, 814, 817, 818, 673, 674, 836, 838, 841, 842, 2379, 676, 2382, 849, 851, 853, 854, 855, 2205, 857, 679, 858, 863, 1889, 1890, 1891, 1892, 1894, 1895, 1896, 1897, 1898, 1899, 1902, 1905, 1907, 1910, 888, 385, 386, 2729, 2486, 2734, 2735, 455, 1994, 462, 2017, 487, 489, 2026, 2547, 2549]\n",
    "new_df_X = df_X.iloc[:, selected_features]\n",
    "\n",
    "X = new_df_X.to_numpy()\n",
    "y = df_y.values.ravel()  # 0 is HER2+, 1 is HR+, 2 is Triple Negative"
   ]
  },
  {
   "cell_type": "code",
   "execution_count": 3,
   "metadata": {},
   "outputs": [],
   "source": [
    "# split data\n",
    "X_train, X_test, y_train, y_test = train_test_split(X, y, test_size=0.3, random_state=12345)"
   ]
  },
  {
   "cell_type": "markdown",
   "metadata": {},
   "source": [
    "# Logistic regression"
   ]
  },
  {
   "cell_type": "code",
   "execution_count": 4,
   "metadata": {},
   "outputs": [
    {
     "name": "stdout",
     "output_type": "stream",
     "text": [
      "Mean cross-validation score: 0.9285714285714285\n",
      "Best hyperparameters: {'C': 0.1, 'max_iter': 100, 'penalty': 'l2'}\n",
      "              precision    recall  f1-score   support\n",
      "\n",
      "           0       0.85      0.85      0.85        13\n",
      "           1       0.50      0.62      0.56         8\n",
      "           2       0.71      0.56      0.62         9\n",
      "\n",
      "    accuracy                           0.70        30\n",
      "   macro avg       0.69      0.68      0.68        30\n",
      "weighted avg       0.71      0.70      0.70        30\n",
      "\n"
     ]
    }
   ],
   "source": [
    "# define the model\n",
    "log_reg = LogisticRegression(solver='liblinear', multi_class='ovr')\n",
    "\n",
    "# define the grid of hyperparameters\n",
    "param_grid = {'C': [0.001, 0.01, 0.1, 1, 10, 100],\n",
    "              'penalty': ['l1', 'l2'],\n",
    "               'max_iter': [100, 200, 300, 400, 500]}\n",
    "\n",
    "# configure the nested cross-validation procedure\n",
    "inner_cv = KFold(n_splits=5, shuffle=True, random_state=12345)\n",
    "outer_cv = KFold(n_splits=5, shuffle=True, random_state=12345)\n",
    "\n",
    "# search\n",
    "grid_search = GridSearchCV(log_reg, param_grid, cv=inner_cv)\n",
    "cross_val_scores = cross_val_score(grid_search, X_train, y_train, cv=outer_cv)\n",
    "\n",
    "grid_search.fit(X_train, y_train)\n",
    "\n",
    "print(\"Mean cross-validation score:\", np.mean(cross_val_scores))\n",
    "print(\"Best hyperparameters:\", grid_search.best_params_)\n",
    "\n",
    "# evaluate the best model\n",
    "best_model = grid_search.best_estimator_\n",
    "y_pred = best_model.predict(X_test)\n",
    "\n",
    "# classification report\n",
    "print(classification_report(y_test, y_pred))\n"
   ]
  },
  {
   "cell_type": "markdown",
   "metadata": {},
   "source": [
    "# kNN"
   ]
  },
  {
   "cell_type": "code",
   "execution_count": 6,
   "metadata": {},
   "outputs": [
    {
     "name": "stdout",
     "output_type": "stream",
     "text": [
      "Mean cross-validation score: 0.8\n",
      "Best hyperparameters: {'n_neighbors': 3, 'p': 1, 'weights': 'distance'}\n",
      "              precision    recall  f1-score   support\n",
      "\n",
      "           0       0.80      0.62      0.70        13\n",
      "           1       0.36      0.62      0.45         8\n",
      "           2       0.67      0.44      0.53         9\n",
      "\n",
      "    accuracy                           0.57        30\n",
      "   macro avg       0.61      0.56      0.56        30\n",
      "weighted avg       0.64      0.57      0.58        30\n",
      "\n"
     ]
    }
   ],
   "source": [
    "# define the model\n",
    "knn = KNeighborsClassifier()\n",
    "\n",
    "# define the grid of hyperparameters\n",
    "param_grid = {'n_neighbors': [1, 3, 5, 7, 9, 11],\n",
    "              'weights': ['uniform', 'distance'],\n",
    "              'p': [1, 2]}\n",
    "\n",
    "# configure the nested cross-validation procedure\n",
    "inner_cv = KFold(n_splits=5, shuffle=True, random_state=12345)\n",
    "outer_cv = KFold(n_splits=5, shuffle=True, random_state=12345)\n",
    "\n",
    "# search\n",
    "grid_search = GridSearchCV(knn, param_grid, cv=inner_cv)\n",
    "cross_val_scores = cross_val_score(grid_search, X_train, y_train, cv=outer_cv)\n",
    "\n",
    "grid_search.fit(X_train, y_train)\n",
    "\n",
    "print(\"Mean cross-validation score:\", np.mean(cross_val_scores))\n",
    "print(\"Best hyperparameters:\", grid_search.best_params_)\n",
    "\n",
    "# evaluate the best model\n",
    "best_model = grid_search.best_estimator_\n",
    "y_pred = best_model.predict(X_test)\n",
    "\n",
    "# classification report\n",
    "print(classification_report(y_test, y_pred))"
   ]
  }
 ],
 "metadata": {
  "kernelspec": {
   "display_name": "Python 3",
   "language": "python",
   "name": "python3"
  },
  "language_info": {
   "codemirror_mode": {
    "name": "ipython",
    "version": 3
   },
   "file_extension": ".py",
   "mimetype": "text/x-python",
   "name": "python",
   "nbconvert_exporter": "python",
   "pygments_lexer": "ipython3",
   "version": "3.11.4"
  }
 },
 "nbformat": 4,
 "nbformat_minor": 2
}
