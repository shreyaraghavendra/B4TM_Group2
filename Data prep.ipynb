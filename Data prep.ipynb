{
 "cells": [
  {
   "cell_type": "code",
   "execution_count": 24,
   "metadata": {},
   "outputs": [],
   "source": [
    "import sklearn\n",
    "import pandas as pd\n",
    "import numpy as np\n",
    "import matplotlib.pyplot as plt\n",
    "import scipy"
   ]
  },
  {
   "cell_type": "code",
   "execution_count": 40,
   "metadata": {},
   "outputs": [],
   "source": [
    "# load data\n",
    "data = pd.read_csv('Train_call.txt', sep='\\t')\n",
    "data = np.transpose(data)\n",
    "label = pd.read_csv('Train_clinical.txt', sep='\\t', index_col=0)"
   ]
  },
  {
   "cell_type": "code",
   "execution_count": null,
   "metadata": {},
   "outputs": [],
   "source": [
    "# plot raw data for each sample\n",
    "for i in range(4, len(data)):\n",
    "    plt.figure()\n",
    "    plt.plot(data.iloc[0], data.iloc[i], 'o')\n",
    "    plt.xticks(data.iloc[0].unique())\n",
    "    plt.ylim(-5, 5)\n",
    "    plt.title('Raw data for ' + data.iloc[i].name)\n",
    "    plt.xlabel('Chromosome')\n",
    "    plt.ylabel('Log2 ratio')"
   ]
  }
 ],
 "metadata": {
  "kernelspec": {
   "display_name": "Python 3",
   "language": "python",
   "name": "python3"
  },
  "language_info": {
   "codemirror_mode": {
    "name": "ipython",
    "version": 3
   },
   "file_extension": ".py",
   "mimetype": "text/x-python",
   "name": "python",
   "nbconvert_exporter": "python",
   "pygments_lexer": "ipython3",
   "version": "3.11.5"
  }
 },
 "nbformat": 4,
 "nbformat_minor": 2
}
