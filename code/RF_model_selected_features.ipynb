{
 "cells": [
  {
   "cell_type": "code",
   "execution_count": 31,
   "metadata": {},
   "outputs": [],
   "source": [
    "import sklearn\n",
    "from sklearn.model_selection import train_test_split\n",
    "from sklearn.ensemble import RandomForestClassifier\n",
    "from sklearn.metrics import classification_report\n",
    "import pandas as pd\n",
    "import numpy as np\n",
    "import matplotlib.pyplot as plt\n",
    "import scipy\n",
    "import seaborn as sns"
   ]
  },
  {
   "cell_type": "code",
   "execution_count": 32,
   "metadata": {},
   "outputs": [
    {
     "name": "stdout",
     "output_type": "stream",
     "text": [
      "142\n"
     ]
    }
   ],
   "source": [
    "# load data\n",
    "df_X = pd.read_csv('../data/X.csv', index_col=0)\n",
    "df_y = pd.read_csv('../data/y.csv', index_col=0)\n",
    "\n",
    "# keep selected columns\n",
    "selected_features = [2056, 2058, 1559, 2083, 1065, 1581, 1583, 1087, 67, 74, 2130, 2662, 2154, 623, 1654, 1656, 1657, 1663, 2182, 2183, 1160, 2184, 2185, 1677, 1678, 1679, 2196, 2717, 2206, 671, 2207, 2208, 2209, 2723, 2212, 2213, 2211, 2725, 2214, 2724, 2218, 2210, 2732, 2221, 174, 2730, 2219, 2220, 2733, 2223, 2224, 2225, 2742, 2736, 2740, 189, 192, 2776, 1243, 734, 2275, 229, 230, 2789, 744, 2791, 742, 743, 745, 761, 1788, 765, 1789, 2817, 2818, 771, 261, 1289, 2828, 1293, 1302, 791, 1303, 1306, 800, 801, 803, 805, 669, 808, 814, 817, 818, 673, 674, 836, 838, 841, 842, 2379, 676, 2382, 849, 851, 853, 854, 855, 2205, 857, 679, 858, 863, 1889, 1890, 1891, 1892, 1894, 1895, 1896, 1897, 1898, 1899, 1902, 1905, 1907, 1910, 888, 385, 386, 2729, 2486, 2734, 2735, 455, 1994, 462, 2017, 487, 489, 2026, 2547, 2549]\n",
    "new_df_X = df_X.iloc[:, selected_features]\n",
    "\n",
    "X = new_df_X.to_numpy()\n",
    "y = df_y.values.ravel()  # 0 is HER2+, 1 is HR+, 2 is Triple Negative\n",
    "\n",
    "print(len(selected_features))"
   ]
  },
  {
   "cell_type": "code",
   "execution_count": 55,
   "metadata": {},
   "outputs": [],
   "source": [
    "from sklearn.model_selection import RandomizedSearchCV, GridSearchCV, cross_val_score, KFold\n",
    "from sklearn.ensemble import RandomForestClassifier\n",
    "from sklearn.metrics import make_scorer, f1_score\n",
    "from scipy.stats import randint as sp_randint\n",
    "import time\n",
    "import numpy as np\n",
    "\n",
    "def nested_cv_rfc(x_data, y_targets):\n",
    "    # Random Forest classifier to be optimized\n",
    "    rfc = RandomForestClassifier(random_state=2)\n",
    "\n",
    "    # Define the parameter space for RandomizedSearchCV\n",
    "    param_dist = {\n",
    "        \"n_estimators\": sp_randint(10, 750),\n",
    "        \"max_leaf_nodes\": sp_randint(20, 1000),\n",
    "        \"max_depth\": sp_randint(20, 500),\n",
    "        \"min_samples_split\": sp_randint(2, 250),\n",
    "        \"max_features\": sp_randint(3, 100)\n",
    "    }\n",
    "\n",
    "    # Number of parameter settings that are sampled\n",
    "    n_iter_search = 50\n",
    "    inner_cv = KFold(n_splits=4, shuffle=True, random_state=1)\n",
    "    outer_cv = KFold(n_splits=5, shuffle=True, random_state=2)\n",
    "\n",
    "    # Execute RandomizedSearchCV\n",
    "    random_search = RandomizedSearchCV(rfc, param_distributions=param_dist,\n",
    "                                       n_iter=n_iter_search, scoring=make_scorer(f1_score, average='micro'), cv=inner_cv, verbose=1)\n",
    "\n",
    "    # Using outer CV for assessing the performance\n",
    "    outer_scores = cross_val_score(random_search, x_data, y_targets, cv=outer_cv, scoring=make_scorer(f1_score, average='micro'))\n",
    "\n",
    "    print(\"Nested CV score (mean):\", np.mean(outer_scores))\n",
    "\n",
    "    # Refitting on the entire dataset (can be omitted if only interested in performance estimate)\n",
    "    random_search.fit(x_data, y_targets)  # This line will be executed with the best parameters found in the inner CV\n",
    "    best_params_random = random_search.best_params_\n",
    "    \n",
    "    # print(\"Best parameters from Random Search:\", best_params_random)\n",
    "\n",
    "    # # Defining a narrower search space for GridSearchCV around the best parameters found\n",
    "    # param_grid = {\n",
    "    #     \"n_estimators\": [best_params_random['n_estimators'] - 3, best_params_random['n_estimators'], best_params_random['n_estimators'] + 3],\n",
    "    #     \"max_leaf_nodes\": [best_params_random['max_leaf_nodes'] - 5, best_params_random['max_leaf_nodes'], best_params_random['max_leaf_nodes'] + 5],\n",
    "    #     \"max_depth\": [best_params_random['max_depth'] - 5, best_params_random['max_depth'], best_params_random['max_depth'] + 5],\n",
    "    #     \"min_samples_split\": [best_params_random['min_samples_split'] - 3, best_params_random['min_samples_split'], best_params_random['min_samples_split'] + 3],\n",
    "    #     \"max_features\": [max(1, best_params_random['max_features'] - 3), best_params_random['max_features'], best_params_random['max_features'] + 4]\n",
    "    # }\n",
    "\n",
    "    # # Ensure parameters are within the original bounds\n",
    "    # for key in param_grid.keys():\n",
    "    #     param_grid[key] = [np.max([x, param_dist[key].a]) for x in param_grid[key]]\n",
    "\n",
    "    # grid_search = GridSearchCV(rfc, param_grid=param_grid, scoring=make_scorer(f1_score, average='micro'), cv=inner_cv, verbose=1)\n",
    "    # grid_search.fit(x_data, y_targets)\n",
    "    # best_params_grid = grid_search.best_params_\n",
    "\n",
    "    # print(\"Best parameters from Grid Search:\", best_params_grid)\n",
    "\n",
    "    return best_params_random\n",
    "\n",
    "# Usage: best_params = nested_cv_rfc(x_data, y_targets)\n"
   ]
  },
  {
   "cell_type": "code",
   "execution_count": 56,
   "metadata": {},
   "outputs": [],
   "source": [
    "X_train, X_test, y_train, y_test = train_test_split(X, y, test_size=0.3, random_state=12345)"
   ]
  },
  {
   "cell_type": "code",
   "execution_count": 57,
   "metadata": {},
   "outputs": [
    {
     "name": "stdout",
     "output_type": "stream",
     "text": [
      "              precision    recall  f1-score   support\n",
      "\n",
      "           0       0.69      0.85      0.76        13\n",
      "           1       0.50      0.50      0.50         8\n",
      "           2       0.67      0.44      0.53         9\n",
      "\n",
      "    accuracy                           0.63        30\n",
      "   macro avg       0.62      0.60      0.60        30\n",
      "weighted avg       0.63      0.63      0.62        30\n",
      "\n"
     ]
    }
   ],
   "source": [
    "m_rf = RandomForestClassifier(n_estimators = 20, max_features = 3, random_state=42).fit(X_train, y_train)\n",
    "y_pred = m_rf.predict(X_test)\n",
    "\n",
    "print(classification_report(y_test, y_pred, zero_division=0))"
   ]
  },
  {
   "cell_type": "code",
   "execution_count": 58,
   "metadata": {},
   "outputs": [
    {
     "name": "stdout",
     "output_type": "stream",
     "text": [
      "Fitting 4 folds for each of 50 candidates, totalling 200 fits\n",
      "Fitting 4 folds for each of 50 candidates, totalling 200 fits\n",
      "Fitting 4 folds for each of 50 candidates, totalling 200 fits\n",
      "Fitting 4 folds for each of 50 candidates, totalling 200 fits\n",
      "Fitting 4 folds for each of 50 candidates, totalling 200 fits\n",
      "Nested CV score (mean): 0.9428571428571428\n",
      "Fitting 4 folds for each of 50 candidates, totalling 200 fits\n"
     ]
    }
   ],
   "source": [
    "best_params = nested_cv_rfc(X_train, y_train)"
   ]
  },
  {
   "cell_type": "code",
   "execution_count": 59,
   "metadata": {},
   "outputs": [
    {
     "name": "stdout",
     "output_type": "stream",
     "text": [
      "              precision    recall  f1-score   support\n",
      "\n",
      "           0       1.00      0.92      0.96        13\n",
      "           1       0.33      0.38      0.35         8\n",
      "           2       0.33      0.33      0.33         9\n",
      "\n",
      "    accuracy                           0.60        30\n",
      "   macro avg       0.56      0.54      0.55        30\n",
      "weighted avg       0.62      0.60      0.61        30\n",
      "\n"
     ]
    }
   ],
   "source": [
    "m_rf_optimized = RandomForestClassifier(random_state=42, n_estimators = int(best_params[\"n_estimators\"]), max_depth = int(best_params[\"max_depth\"]), max_leaf_nodes = int(best_params[\"max_leaf_nodes\"]), min_samples_split = int(best_params[\"min_samples_split\"]), max_features = int(best_params[\"max_features\"])).fit(X_train, y_train)\n",
    "y_pred = m_rf_optimized.predict(X_test)\n",
    "\n",
    "print(classification_report(y_test, y_pred, zero_division=0))"
   ]
  }
 ],
 "metadata": {
  "kernelspec": {
   "display_name": "Python 3",
   "language": "python",
   "name": "python3"
  },
  "language_info": {
   "codemirror_mode": {
    "name": "ipython",
    "version": 3
   },
   "file_extension": ".py",
   "mimetype": "text/x-python",
   "name": "python",
   "nbconvert_exporter": "python",
   "pygments_lexer": "ipython3",
   "version": "3.11.4"
  }
 },
 "nbformat": 4,
 "nbformat_minor": 2
}
