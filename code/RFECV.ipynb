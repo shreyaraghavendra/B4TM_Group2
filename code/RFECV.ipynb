{
 "cells": [
  {
   "cell_type": "code",
   "execution_count": 1,
   "metadata": {},
   "outputs": [],
   "source": [
    "import pandas as pd\n",
    "import numpy as np\n",
    "import matplotlib.pyplot as plt\n",
    "import seaborn as sns\n",
    "import sklearn\n",
    "from sklearn.feature_selection import RFECV\n",
    "from sklearn.linear_model import LogisticRegression\n",
    "from sklearn.model_selection import train_test_split, StratifiedKFold"
   ]
  },
  {
   "cell_type": "code",
   "execution_count": 2,
   "metadata": {},
   "outputs": [],
   "source": [
    "# load data\n",
    "df_X = pd.read_csv('../data/X.csv', index_col=0)\n",
    "df_y = pd.read_csv('../data/y.csv', index_col=0)\n",
    "\n",
    "X = df_X.to_numpy()\n",
    "y = df_y.values.ravel()  # 0 is HER2+, 1 is HR+, 2 is Triple Negative"
   ]
  },
  {
   "cell_type": "code",
   "execution_count": 3,
   "metadata": {},
   "outputs": [],
   "source": [
    "# split data\n",
    "X_train, X_test, y_train, y_test = train_test_split(X, y, test_size=0.3, random_state=12345)"
   ]
  },
  {
   "cell_type": "code",
   "execution_count": 4,
   "metadata": {},
   "outputs": [
    {
     "name": "stdout",
     "output_type": "stream",
     "text": [
      "Optimal number of features:  33\n",
      "Selected features:  [ 192  230  261  671  761  802  818  851  888 1303 1306 1559 1656 1663\n",
      " 1679 1788 1895 1898 1910 1994 2130 2184 2212 2213 2218 2221 2547 2723\n",
      " 2732 2742 2776 2791 2817]\n"
     ]
    }
   ],
   "source": [
    "estimator = LogisticRegression(solver='liblinear', multi_class='ovr', C=1, max_iter=100, penalty='l1')  # best parameters from grid search\n",
    "selector = RFECV(estimator, step=1, cv=StratifiedKFold(5), scoring='accuracy')\n",
    "selector = selector.fit(X_train, y_train)\n",
    "print(\"Optimal number of features: \", selector.n_features_)\n",
    "selected_features = selector.support_\n",
    "print(\"Selected features: \", np.where(selected_features)[0])"
   ]
  }
 ],
 "metadata": {
  "kernelspec": {
   "display_name": "Python 3",
   "language": "python",
   "name": "python3"
  },
  "language_info": {
   "codemirror_mode": {
    "name": "ipython",
    "version": 3
   },
   "file_extension": ".py",
   "mimetype": "text/x-python",
   "name": "python",
   "nbconvert_exporter": "python",
   "pygments_lexer": "ipython3",
   "version": "3.11.5"
  }
 },
 "nbformat": 4,
 "nbformat_minor": 2
}
