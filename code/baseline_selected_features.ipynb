{
 "cells": [
  {
   "cell_type": "code",
   "execution_count": 1,
   "metadata": {},
   "outputs": [],
   "source": [
    "import sklearn\n",
    "import pandas as pd\n",
    "import numpy as np\n",
    "import matplotlib.pyplot as plt\n",
    "import scipy\n",
    "import seaborn as sns\n",
    "\n",
    "from sklearn.model_selection import train_test_split\n",
    "from sklearn.linear_model import LogisticRegression\n",
    "from sklearn.neighbors import KNeighborsClassifier\n",
    "from sklearn.metrics import accuracy_score, classification_report\n",
    "from sklearn.model_selection import GridSearchCV, KFold, cross_val_score"
   ]
  },
  {
   "cell_type": "code",
   "execution_count": 2,
   "metadata": {},
   "outputs": [],
   "source": [
    "# load data\n",
    "df_X = pd.read_csv('../data/X.csv', index_col=0)\n",
    "df_y = pd.read_csv('../data/y.csv', index_col=0)\n",
    "\n",
    "y = df_y.values.ravel()  # 0 is HER2+, 1 is HR+, 2 is Triple Negative"
   ]
  },
  {
   "cell_type": "markdown",
   "metadata": {},
   "source": [
    "# List 2"
   ]
  },
  {
   "cell_type": "code",
   "execution_count": 3,
   "metadata": {},
   "outputs": [],
   "source": [
    "# keep selected columns\n",
    "list_2 = [1902, 1956, 1973, 2026, 2058, 2183, 2184, 2207, 2211, 2213, 2547, 2593, 1672, 118, 192, 695, 772, 791, 854, 1061, 1091, 1559, 1643, 1656, 1678, 1900, 2017, 2021, 2024, 2210, 2218, 2750, 2776, 2791, 2817, 2825]\n",
    "new_df_X = df_X.iloc[:, list_2]\n",
    "\n",
    "X = new_df_X.to_numpy()"
   ]
  },
  {
   "cell_type": "code",
   "execution_count": 4,
   "metadata": {},
   "outputs": [],
   "source": [
    "# split data\n",
    "X_train, X_test, y_train, y_test = train_test_split(X, y, test_size=0.3, random_state=12345)"
   ]
  },
  {
   "cell_type": "markdown",
   "metadata": {},
   "source": [
    "## Logistic regression"
   ]
  },
  {
   "cell_type": "code",
   "execution_count": 5,
   "metadata": {},
   "outputs": [
    {
     "name": "stdout",
     "output_type": "stream",
     "text": [
      "Mean cross-validation score: 0.9285714285714286\n",
      "Best hyperparameters: {'C': 1, 'max_iter': 100, 'penalty': 'l2'}\n",
      "              precision    recall  f1-score   support\n",
      "\n",
      "           0       1.00      1.00      1.00        13\n",
      "           1       1.00      0.88      0.93         8\n",
      "           2       0.90      1.00      0.95         9\n",
      "\n",
      "    accuracy                           0.97        30\n",
      "   macro avg       0.97      0.96      0.96        30\n",
      "weighted avg       0.97      0.97      0.97        30\n",
      "\n"
     ]
    }
   ],
   "source": [
    "# define the model\n",
    "log_reg = LogisticRegression(solver='liblinear', multi_class='ovr')\n",
    "\n",
    "# define the grid of hyperparameters\n",
    "param_grid = {'C': [0.001, 0.01, 0.1, 1, 10, 100],\n",
    "              'penalty': ['l1', 'l2'],\n",
    "               'max_iter': [100, 200, 300, 400, 500]}\n",
    "\n",
    "# configure the nested cross-validation procedure\n",
    "inner_cv = KFold(n_splits=5, shuffle=True, random_state=12345)\n",
    "outer_cv = KFold(n_splits=5, shuffle=True, random_state=12345)\n",
    "\n",
    "# search\n",
    "grid_search = GridSearchCV(log_reg, param_grid, cv=inner_cv)\n",
    "cross_val_scores = cross_val_score(grid_search, X_train, y_train, cv=outer_cv)\n",
    "\n",
    "grid_search.fit(X_train, y_train)\n",
    "\n",
    "print(\"Mean cross-validation score:\", np.mean(cross_val_scores))\n",
    "print(\"Best hyperparameters:\", grid_search.best_params_)\n",
    "\n",
    "# evaluate the best model\n",
    "best_model = grid_search.best_estimator_\n",
    "y_pred = best_model.predict(X_test)\n",
    "\n",
    "# classification report\n",
    "print(classification_report(y_test, y_pred))\n"
   ]
  },
  {
   "cell_type": "markdown",
   "metadata": {},
   "source": [
    "## kNN"
   ]
  },
  {
   "cell_type": "code",
   "execution_count": 6,
   "metadata": {},
   "outputs": [
    {
     "name": "stdout",
     "output_type": "stream",
     "text": [
      "Mean cross-validation score: 0.7714285714285714\n",
      "Best hyperparameters: {'n_neighbors': 11, 'p': 1, 'weights': 'distance'}\n",
      "              precision    recall  f1-score   support\n",
      "\n",
      "           0       1.00      0.62      0.76        13\n",
      "           1       0.50      1.00      0.67         8\n",
      "           2       0.83      0.56      0.67         9\n",
      "\n",
      "    accuracy                           0.70        30\n",
      "   macro avg       0.78      0.72      0.70        30\n",
      "weighted avg       0.82      0.70      0.71        30\n",
      "\n"
     ]
    }
   ],
   "source": [
    "# define the model\n",
    "knn = KNeighborsClassifier()\n",
    "\n",
    "# define the grid of hyperparameters\n",
    "param_grid = {'n_neighbors': [1, 3, 5, 7, 9, 11],\n",
    "              'weights': ['uniform', 'distance'],\n",
    "              'p': [1, 2]}\n",
    "\n",
    "# configure the nested cross-validation procedure\n",
    "inner_cv = KFold(n_splits=5, shuffle=True, random_state=12345)\n",
    "outer_cv = KFold(n_splits=5, shuffle=True, random_state=12345)\n",
    "\n",
    "# search\n",
    "grid_search = GridSearchCV(knn, param_grid, cv=inner_cv)\n",
    "cross_val_scores = cross_val_score(grid_search, X_train, y_train, cv=outer_cv)\n",
    "\n",
    "grid_search.fit(X_train, y_train)\n",
    "\n",
    "print(\"Mean cross-validation score:\", np.mean(cross_val_scores))\n",
    "print(\"Best hyperparameters:\", grid_search.best_params_)\n",
    "\n",
    "# evaluate the best model\n",
    "best_model = grid_search.best_estimator_\n",
    "y_pred = best_model.predict(X_test)\n",
    "\n",
    "# classification report\n",
    "print(classification_report(y_test, y_pred))"
   ]
  },
  {
   "cell_type": "markdown",
   "metadata": {},
   "source": [
    "# List 3"
   ]
  },
  {
   "cell_type": "code",
   "execution_count": 7,
   "metadata": {},
   "outputs": [],
   "source": [
    "# keep selected columns\n",
    "list_3 = [2026, 2184, 2213, 791, 1656, 1678, 1900, 2750]\n",
    "new_df_X = df_X.iloc[:, list_3]\n",
    "\n",
    "X = new_df_X.to_numpy()"
   ]
  },
  {
   "cell_type": "code",
   "execution_count": 8,
   "metadata": {},
   "outputs": [],
   "source": [
    "# split data\n",
    "X_train, X_test, y_train, y_test = train_test_split(X, y, test_size=0.3, random_state=12345)"
   ]
  },
  {
   "cell_type": "markdown",
   "metadata": {},
   "source": [
    "## Logistic regression"
   ]
  },
  {
   "cell_type": "code",
   "execution_count": 9,
   "metadata": {},
   "outputs": [
    {
     "name": "stdout",
     "output_type": "stream",
     "text": [
      "Mean cross-validation score: 0.9\n",
      "Best hyperparameters: {'C': 1, 'max_iter': 100, 'penalty': 'l2'}\n",
      "              precision    recall  f1-score   support\n",
      "\n",
      "           0       0.93      1.00      0.96        13\n",
      "           1       0.67      0.75      0.71         8\n",
      "           2       0.86      0.67      0.75         9\n",
      "\n",
      "    accuracy                           0.83        30\n",
      "   macro avg       0.82      0.81      0.81        30\n",
      "weighted avg       0.84      0.83      0.83        30\n",
      "\n"
     ]
    }
   ],
   "source": [
    "# define the model\n",
    "log_reg = LogisticRegression(solver='liblinear', multi_class='ovr')\n",
    "\n",
    "# define the grid of hyperparameters\n",
    "param_grid = {'C': [0.001, 0.01, 0.1, 1, 10, 100],\n",
    "              'penalty': ['l1', 'l2'],\n",
    "               'max_iter': [100, 200, 300, 400, 500]}\n",
    "\n",
    "# configure the nested cross-validation procedure\n",
    "inner_cv = KFold(n_splits=5, shuffle=True, random_state=12345)\n",
    "outer_cv = KFold(n_splits=5, shuffle=True, random_state=12345)\n",
    "\n",
    "# search\n",
    "grid_search = GridSearchCV(log_reg, param_grid, cv=inner_cv)\n",
    "cross_val_scores = cross_val_score(grid_search, X_train, y_train, cv=outer_cv)\n",
    "\n",
    "grid_search.fit(X_train, y_train)\n",
    "\n",
    "print(\"Mean cross-validation score:\", np.mean(cross_val_scores))\n",
    "print(\"Best hyperparameters:\", grid_search.best_params_)\n",
    "\n",
    "# evaluate the best model\n",
    "best_model = grid_search.best_estimator_\n",
    "y_pred = best_model.predict(X_test)\n",
    "\n",
    "# classification report\n",
    "print(classification_report(y_test, y_pred))"
   ]
  },
  {
   "cell_type": "markdown",
   "metadata": {},
   "source": [
    "## kNN"
   ]
  },
  {
   "cell_type": "code",
   "execution_count": 10,
   "metadata": {},
   "outputs": [
    {
     "name": "stdout",
     "output_type": "stream",
     "text": [
      "Mean cross-validation score: 0.9\n",
      "Best hyperparameters: {'n_neighbors': 3, 'p': 1, 'weights': 'distance'}\n",
      "              precision    recall  f1-score   support\n",
      "\n",
      "           0       1.00      1.00      1.00        13\n",
      "           1       0.58      0.88      0.70         8\n",
      "           2       0.80      0.44      0.57         9\n",
      "\n",
      "    accuracy                           0.80        30\n",
      "   macro avg       0.79      0.77      0.76        30\n",
      "weighted avg       0.83      0.80      0.79        30\n",
      "\n"
     ]
    }
   ],
   "source": [
    "# define the model\n",
    "knn = KNeighborsClassifier()\n",
    "\n",
    "# define the grid of hyperparameters\n",
    "param_grid = {'n_neighbors': [1, 3, 5, 7, 9, 11],\n",
    "              'weights': ['uniform', 'distance'],\n",
    "              'p': [1, 2]}\n",
    "\n",
    "# configure the nested cross-validation procedure\n",
    "inner_cv = KFold(n_splits=5, shuffle=True, random_state=12345)\n",
    "outer_cv = KFold(n_splits=5, shuffle=True, random_state=12345)\n",
    "\n",
    "# search\n",
    "grid_search = GridSearchCV(knn, param_grid, cv=inner_cv)\n",
    "cross_val_scores = cross_val_score(grid_search, X_train, y_train, cv=outer_cv)\n",
    "\n",
    "grid_search.fit(X_train, y_train)\n",
    "\n",
    "print(\"Mean cross-validation score:\", np.mean(cross_val_scores))\n",
    "print(\"Best hyperparameters:\", grid_search.best_params_)\n",
    "\n",
    "# evaluate the best model\n",
    "best_model = grid_search.best_estimator_\n",
    "y_pred = best_model.predict(X_test)\n",
    "\n",
    "# classification report\n",
    "print(classification_report(y_test, y_pred))"
   ]
  },
  {
   "cell_type": "markdown",
   "metadata": {},
   "source": [
    "# List 4"
   ]
  },
  {
   "cell_type": "code",
   "execution_count": 11,
   "metadata": {},
   "outputs": [],
   "source": [
    "# keep selected columns\n",
    "list_4 = [2026, 2184, 2213]\n",
    "new_df_X = df_X.iloc[:, list_4]\n",
    "\n",
    "X = new_df_X.to_numpy()"
   ]
  },
  {
   "cell_type": "code",
   "execution_count": 12,
   "metadata": {},
   "outputs": [],
   "source": [
    "# split data\n",
    "X_train, X_test, y_train, y_test = train_test_split(X, y, test_size=0.3, random_state=12345)"
   ]
  },
  {
   "cell_type": "markdown",
   "metadata": {},
   "source": [
    "## Logistic regression"
   ]
  },
  {
   "cell_type": "code",
   "execution_count": 13,
   "metadata": {},
   "outputs": [
    {
     "name": "stdout",
     "output_type": "stream",
     "text": [
      "Mean cross-validation score: 0.7142857142857143\n",
      "Best hyperparameters: {'C': 10, 'max_iter': 100, 'penalty': 'l1'}\n",
      "              precision    recall  f1-score   support\n",
      "\n",
      "           0       1.00      1.00      1.00        13\n",
      "           1       0.62      1.00      0.76         8\n",
      "           2       1.00      0.44      0.62         9\n",
      "\n",
      "    accuracy                           0.83        30\n",
      "   macro avg       0.87      0.81      0.79        30\n",
      "weighted avg       0.90      0.83      0.82        30\n",
      "\n"
     ]
    }
   ],
   "source": [
    "# define the model\n",
    "log_reg = LogisticRegression(solver='liblinear', multi_class='ovr')\n",
    "\n",
    "# define the grid of hyperparameters\n",
    "param_grid = {'C': [0.001, 0.01, 0.1, 1, 10, 100],\n",
    "              'penalty': ['l1', 'l2'],\n",
    "               'max_iter': [100, 200, 300, 400, 500]}\n",
    "\n",
    "# configure the nested cross-validation procedure\n",
    "inner_cv = KFold(n_splits=5, shuffle=True, random_state=12345)\n",
    "outer_cv = KFold(n_splits=5, shuffle=True, random_state=12345)\n",
    "\n",
    "# search\n",
    "grid_search = GridSearchCV(log_reg, param_grid, cv=inner_cv)\n",
    "cross_val_scores = cross_val_score(grid_search, X_train, y_train, cv=outer_cv)\n",
    "\n",
    "grid_search.fit(X_train, y_train)\n",
    "\n",
    "print(\"Mean cross-validation score:\", np.mean(cross_val_scores))\n",
    "print(\"Best hyperparameters:\", grid_search.best_params_)\n",
    "\n",
    "# evaluate the best model\n",
    "best_model = grid_search.best_estimator_\n",
    "y_pred = best_model.predict(X_test)\n",
    "\n",
    "# classification report\n",
    "print(classification_report(y_test, y_pred))"
   ]
  },
  {
   "cell_type": "markdown",
   "metadata": {},
   "source": [
    "## kNN"
   ]
  },
  {
   "cell_type": "code",
   "execution_count": 14,
   "metadata": {},
   "outputs": [
    {
     "name": "stdout",
     "output_type": "stream",
     "text": [
      "Mean cross-validation score: 0.6571428571428573\n",
      "Best hyperparameters: {'n_neighbors': 3, 'p': 1, 'weights': 'distance'}\n",
      "              precision    recall  f1-score   support\n",
      "\n",
      "           0       1.00      0.92      0.96        13\n",
      "           1       0.60      0.75      0.67         8\n",
      "           2       0.75      0.67      0.71         9\n",
      "\n",
      "    accuracy                           0.80        30\n",
      "   macro avg       0.78      0.78      0.78        30\n",
      "weighted avg       0.82      0.80      0.81        30\n",
      "\n"
     ]
    }
   ],
   "source": [
    "# define the model\n",
    "knn = KNeighborsClassifier()\n",
    "\n",
    "# define the grid of hyperparameters\n",
    "param_grid = {'n_neighbors': [1, 3, 5, 7, 9, 11],\n",
    "              'weights': ['uniform', 'distance'],\n",
    "              'p': [1, 2]}\n",
    "\n",
    "# configure the nested cross-validation procedure\n",
    "inner_cv = KFold(n_splits=5, shuffle=True, random_state=12345)\n",
    "outer_cv = KFold(n_splits=5, shuffle=True, random_state=12345)\n",
    "\n",
    "# search\n",
    "grid_search = GridSearchCV(knn, param_grid, cv=inner_cv)\n",
    "cross_val_scores = cross_val_score(grid_search, X_train, y_train, cv=outer_cv)\n",
    "\n",
    "grid_search.fit(X_train, y_train)\n",
    "\n",
    "print(\"Mean cross-validation score:\", np.mean(cross_val_scores))\n",
    "print(\"Best hyperparameters:\", grid_search.best_params_)\n",
    "\n",
    "# evaluate the best model\n",
    "best_model = grid_search.best_estimator_\n",
    "y_pred = best_model.predict(X_test)\n",
    "\n",
    "# classification report\n",
    "print(classification_report(y_test, y_pred))"
   ]
  },
  {
   "cell_type": "markdown",
   "metadata": {},
   "source": [
    "# List 5"
   ]
  },
  {
   "cell_type": "code",
   "execution_count": 15,
   "metadata": {},
   "outputs": [],
   "source": [
    "# keep selected columns\n",
    "list_5 = [2184]\n",
    "new_df_X = df_X.iloc[:, list_5]\n",
    "\n",
    "X = new_df_X.to_numpy()"
   ]
  },
  {
   "cell_type": "code",
   "execution_count": 16,
   "metadata": {},
   "outputs": [],
   "source": [
    "# split data\n",
    "X_train, X_test, y_train, y_test = train_test_split(X, y, test_size=0.3, random_state=12345)"
   ]
  },
  {
   "cell_type": "markdown",
   "metadata": {},
   "source": [
    "## Logistic regression"
   ]
  },
  {
   "cell_type": "code",
   "execution_count": 17,
   "metadata": {},
   "outputs": [
    {
     "name": "stdout",
     "output_type": "stream",
     "text": [
      "Mean cross-validation score: 0.5857142857142856\n",
      "Best hyperparameters: {'C': 10, 'max_iter': 100, 'penalty': 'l1'}\n",
      "              precision    recall  f1-score   support\n",
      "\n",
      "           0       1.00      1.00      1.00        13\n",
      "           1       0.47      1.00      0.64         8\n",
      "           2       0.00      0.00      0.00         9\n",
      "\n",
      "    accuracy                           0.70        30\n",
      "   macro avg       0.49      0.67      0.55        30\n",
      "weighted avg       0.56      0.70      0.60        30\n",
      "\n"
     ]
    },
    {
     "name": "stderr",
     "output_type": "stream",
     "text": [
      "/Library/Frameworks/Python.framework/Versions/3.11/lib/python3.11/site-packages/sklearn/metrics/_classification.py:1509: UndefinedMetricWarning: Precision is ill-defined and being set to 0.0 in labels with no predicted samples. Use `zero_division` parameter to control this behavior.\n",
      "  _warn_prf(average, modifier, f\"{metric.capitalize()} is\", len(result))\n",
      "/Library/Frameworks/Python.framework/Versions/3.11/lib/python3.11/site-packages/sklearn/metrics/_classification.py:1509: UndefinedMetricWarning: Precision is ill-defined and being set to 0.0 in labels with no predicted samples. Use `zero_division` parameter to control this behavior.\n",
      "  _warn_prf(average, modifier, f\"{metric.capitalize()} is\", len(result))\n",
      "/Library/Frameworks/Python.framework/Versions/3.11/lib/python3.11/site-packages/sklearn/metrics/_classification.py:1509: UndefinedMetricWarning: Precision is ill-defined and being set to 0.0 in labels with no predicted samples. Use `zero_division` parameter to control this behavior.\n",
      "  _warn_prf(average, modifier, f\"{metric.capitalize()} is\", len(result))\n"
     ]
    }
   ],
   "source": [
    "# define the model\n",
    "log_reg = LogisticRegression(solver='liblinear', multi_class='ovr')\n",
    "\n",
    "# define the grid of hyperparameters\n",
    "param_grid = {'C': [0.001, 0.01, 0.1, 1, 10, 100],\n",
    "              'penalty': ['l1', 'l2'],\n",
    "               'max_iter': [100, 200, 300, 400, 500]}\n",
    "\n",
    "# configure the nested cross-validation procedure\n",
    "inner_cv = KFold(n_splits=5, shuffle=True, random_state=12345)\n",
    "outer_cv = KFold(n_splits=5, shuffle=True, random_state=12345)\n",
    "\n",
    "# search\n",
    "grid_search = GridSearchCV(log_reg, param_grid, cv=inner_cv)\n",
    "cross_val_scores = cross_val_score(grid_search, X_train, y_train, cv=outer_cv)\n",
    "\n",
    "grid_search.fit(X_train, y_train)\n",
    "\n",
    "print(\"Mean cross-validation score:\", np.mean(cross_val_scores))\n",
    "print(\"Best hyperparameters:\", grid_search.best_params_)\n",
    "\n",
    "# evaluate the best model\n",
    "best_model = grid_search.best_estimator_\n",
    "y_pred = best_model.predict(X_test)\n",
    "\n",
    "# classification report\n",
    "print(classification_report(y_test, y_pred))"
   ]
  },
  {
   "cell_type": "markdown",
   "metadata": {},
   "source": [
    "## kNN"
   ]
  },
  {
   "cell_type": "code",
   "execution_count": 18,
   "metadata": {},
   "outputs": [
    {
     "name": "stdout",
     "output_type": "stream",
     "text": [
      "Mean cross-validation score: 0.6142857142857142\n",
      "Best hyperparameters: {'n_neighbors': 7, 'p': 1, 'weights': 'uniform'}\n",
      "              precision    recall  f1-score   support\n",
      "\n",
      "           0       1.00      1.00      1.00        13\n",
      "           1       0.50      0.25      0.33         8\n",
      "           2       0.54      0.78      0.64         9\n",
      "\n",
      "    accuracy                           0.73        30\n",
      "   macro avg       0.68      0.68      0.66        30\n",
      "weighted avg       0.73      0.73      0.71        30\n",
      "\n"
     ]
    }
   ],
   "source": [
    "# define the model\n",
    "knn = KNeighborsClassifier()\n",
    "\n",
    "# define the grid of hyperparameters\n",
    "param_grid = {'n_neighbors': [1, 3, 5, 7, 9, 11],\n",
    "              'weights': ['uniform', 'distance'],\n",
    "              'p': [1, 2]}\n",
    "\n",
    "# configure the nested cross-validation procedure\n",
    "inner_cv = KFold(n_splits=5, shuffle=True, random_state=12345)\n",
    "outer_cv = KFold(n_splits=5, shuffle=True, random_state=12345)\n",
    "\n",
    "# search\n",
    "grid_search = GridSearchCV(knn, param_grid, cv=inner_cv)\n",
    "cross_val_scores = cross_val_score(grid_search, X_train, y_train, cv=outer_cv)\n",
    "\n",
    "grid_search.fit(X_train, y_train)\n",
    "\n",
    "print(\"Mean cross-validation score:\", np.mean(cross_val_scores))\n",
    "print(\"Best hyperparameters:\", grid_search.best_params_)\n",
    "\n",
    "# evaluate the best model\n",
    "best_model = grid_search.best_estimator_\n",
    "y_pred = best_model.predict(X_test)\n",
    "\n",
    "# classification report\n",
    "print(classification_report(y_test, y_pred))"
   ]
  }
 ],
 "metadata": {
  "kernelspec": {
   "display_name": "Python 3",
   "language": "python",
   "name": "python3"
  },
  "language_info": {
   "codemirror_mode": {
    "name": "ipython",
    "version": 3
   },
   "file_extension": ".py",
   "mimetype": "text/x-python",
   "name": "python",
   "nbconvert_exporter": "python",
   "pygments_lexer": "ipython3",
   "version": "3.11.5"
  }
 },
 "nbformat": 4,
 "nbformat_minor": 2
}
